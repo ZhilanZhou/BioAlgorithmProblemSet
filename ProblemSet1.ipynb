{
 "cells": [
  {
   "cell_type": "markdown",
   "metadata": {
    "section": "header"
   },
   "source": [
    "<div style=\"text-align: center;\">\n",
    "<h1>The University of North Carolina at Chapel Hill</h1>\n",
    "<h1>Comp 555 BioAlgorithms - Spring 2016</h1>\n",
    "<h1 style=\"font-size: 250%;\">Problem Set #1 </h1>\n",
    "<h1>Issued Wednesday, 2/1/2017; Due Monday, 2/13/2017</h1>\n",
    "</div>\n",
    "\n",
    "**Homework Information:** Some of the problems are probably too long to be done the night before the due date, so plan accordingly. Late problem sets will be penalized by a factor of\t70.71% for each class meeting after the due date. Feel free to get help from others, but the work you submit in should be your own."
   ]
  },
  {
   "cell_type": "code",
   "execution_count": 8,
   "metadata": {
    "collapsed": false,
    "section": "signature"
   },
   "outputs": [],
   "source": [
    "# Replace the following string values with the requested information\n",
    "class Student:\n",
    "    first = \"Zhilan\"\n",
    "    last = \"Zhou\"\n",
    "    onyen = \"zzl\"\n",
    "    pid = \"720432337\""
   ]
  },
  {
   "cell_type": "markdown",
   "metadata": {
    "number": 1,
    "section": "problem"
   },
   "source": [
    "---\n",
    "**Problem #1:** Given a 1.1 million base-pair genome, what do you expect is the length of the shortest *missing* *k*-mer in the genome (i.e. it does not appear)? What are the assumptions of your answer, if any? How many times would you expect to see a given 9-base subsequence appear in the same genome, assuming all bases are independent and equally likely?"
   ]
  },
  {
   "cell_type": "raw",
   "metadata": {
    "number": 1,
    "section": "answer"
   },
   "source": [
    "11\n",
    "Assume all \"ACGT\" bases appear in the genome randomly. Since a sepecific k-mer's occuring probablity is 1/(4^k), it is possible to have the k-mer if the length of genome is larger than 4^k. So it might not have the k-mer when the length is smaller than 4^k. Taking the ceil of log(1100000) will be the answer.\n",
    "4"
   ]
  },
  {
   "cell_type": "markdown",
   "metadata": {
    "number": 2,
    "section": "problem"
   },
   "source": [
    "---\n",
    "**Problem #2:** Find the shortest missing *k*-mer or *k*-mers on chromosome 1 of [Vibrio cholerae](http://csbio.unc.edu/mcmillan/Comp555S17/data/VibrioCholerae.fa). If there are more than one, report all of them."
   ]
  },
  {
   "cell_type": "raw",
   "metadata": {
    "number": 2,
    "section": "answer"
   },
   "source": [
    "CCGGACC\n",
    "GGTCCTA"
   ]
  },
  {
   "cell_type": "markdown",
   "metadata": {
    "number": 3,
    "section": "problem"
   },
   "source": [
    "---\n",
    "**Problem #3:** Modify the <code>kmerPositions()</code> function given in Lecture 2 on slide 20 to allow for errors. Your new function:\n",
    "\n",
    "     kmersWithErrors(k, sequence, errorCount)\n",
    "\n",
    "should return a Python dictionary whose keys are kmers that appear in either the sequence or its reverse complement, and whose values are a list of positions of a kmer that differs in no more than ***errorCount*** bases from the key or its reverse complement. Your list should include only the lexigraphically first of each kmer/reverse complement pair. Enter the code for your function in the space provided below.\n",
    "\n",
    "You can test your code on the following sequence:\n",
    "<pre>\n",
    "test = \"atcaatgatcaacgtaagcttctaagcatgatcaaggtgctcacacagtttatccacaac\"+\\\n",
    "       \"ctgagtggatgacatcaagataggtcgttgtatctccttcctctcgtactctcatgacca\"+\\\n",
    "       \"cggaaagatgatcaagagaggatgatttcttggccatatcgcaatgaatacttgtgactt\"+\\\n",
    "       \"gtgcttccaattgacatcttcagcgccatattgcgctggccaaggtgacggagcgggatt\"+\\\n",
    "       \"acgaaagcatgatcatggctgttgttctgtttatcttgttttgactgagacttgttagga\"+\\\n",
    "       \"tagacggtttttcatcactgactagccaaagccttactctgcctgacatcgaccgtaaat\"+\\\n",
    "       \"tgataatgaatttacatgcttccgcgacgatttacctcttgatcatcgatccgattgaag\"+\\\n",
    "       \"atcttcaattgttaattctcttgcctcgactcatagccatgatgagctcttgatcatgtt\"+\\\n",
    "       \"tccttaaccctctattttttacggaagaatgatcaagctgctgctcttgatcatcgtttc\"\n",
    "</pre>\n",
    "But a different sequence will be used for grading."
   ]
  },
  {
   "cell_type": "code",
   "execution_count": null,
   "metadata": {
    "collapsed": true,
    "number": 3,
    "section": "answer"
   },
   "outputs": [],
   "source": [
    "def kmersWithErrors(k, sequence, errorCount):\n",
    "    kmerPosition = {}\n",
    "    for i in xrange(0,len(sequence)-k+1):\n",
    "        kmer = sequence[i:i+k]\n",
    "        kmerPosition[kmer] = kmerPosition.get(kmer,[])+[i]\n",
    "    # combine kmers and their reverse complements\n",
    "    \n",
    "    srev = ''.join([{'A':'T','C':'G','G':'C','T':'A'}[base] for base in reversed(sequence)])\n",
    "    for i in xrange(0, len(srev)-k+1):\n",
    "        kmer = srev[i:i+k]\n",
    "        kmerPosition[kmer] = kmerPosition.get(kmer,[])+[-k-i]\n",
    "    \n",
    "    kmerList = kmerPosition.keys()\n",
    "    N = len(kmerList)\n",
    "    kmersWithErrors = {kmer: pos for kmer, pos in kmerPosition.iteritems()}\n",
    "    for i in xrange(N-1):\n",
    "        for j in xrange(i+1, N):\n",
    "            hammingDist = sum([1 if kmerList[i][w] != kmerList[j][w] else 0 for w in xrange(k)])\n",
    "            if (hammingDist <= errorCount):\n",
    "                kmersWithErrors[kmerList[i]] += kmerPosition[kmerList[j]]\n",
    "                kmersWithErrors[kmerList[j]] += kmerPosition[kmerList[i]]\n",
    "    pairPosition = {}\n",
    "    for element in kmersWithErrors.iterkeys():\n",
    "        revElement = ''.join([{'A':'T','C':'G','G':'C','T':'A'}[base] for base in reversed(element)])\n",
    "        if ((element not in pairPosition) and (revElement not in pairPosition)):\n",
    "            if (element < revElement):\n",
    "                if (revElement in kmersWithErrors):\n",
    "                    pairPosition[element] = kmersWithErrors[element] + kmersWithErrors[revElement]\n",
    "                else:\n",
    "                    pairPosition[element] = kmersWithErrors[element]\n",
    "            elif (element == revElement):\n",
    "                pairPosition[kmer] = kmersWithErrors[element]\n",
    "            else:\n",
    "                if revElement not in kmerPosition:\n",
    "                    pairPosition[revElement] = kmersWithErrors[element]\n",
    "    return pairPosition"
   ]
  },
  {
   "cell_type": "markdown",
   "metadata": {
    "number": 4,
    "section": "problem"
   },
   "source": [
    "**Problem #4:** A restriction enzyme is a protein produced by bacteria that cleaves DNA at specific subsequence patterns called *recognition sites*. Bacteria use restriction enzymes to defend against bacterial viruses called bacteriophages. The recognition site of a restriction enzyme is commonly a *reverse palindrome*, meaning the base sequence reads the same backwards and forwards, with a length of 4, 6, or 8 bases. The intervals between recognition sites are called *digestion fragments*.\n",
    "\n",
    "How many possible reverse palindromic recognition sites of length 8 exist? What fraction of 8-mers are reverse palindromic? Approximately how frequently, in terms of base-pairs, would you expect a given 8-base recogonition site might appear in a genome? How frequently does the recognition site GAATTC appear in chromosome 1 of [Vibrio cholerae](http://csbio.unc.edu/mcmillan/Comp555S17/data/VibrioCholerae.fa)? How many digestion fragments result?"
   ]
  },
  {
   "cell_type": "raw",
   "metadata": {
    "number": 4,
    "section": "answer"
   },
   "source": [
    "256\n",
    "1/256\n",
    "1/65536\n",
    "197\n",
    "197"
   ]
  },
  {
   "cell_type": "markdown",
   "metadata": {
    "number": 5,
    "section": "problem"
   },
   "source": [
    "**Problem #5: Programming Problem**\n",
    "\n",
    "Write a branch-and-bound version of the *MedianStringMotifSearch()* algorithm shown below. You should base your alogrithm on the observation that, if the best alignment of a *prefix* of a candidate motif has a greater Hamming distance than the minimal Hamming distance of the best motif found so far, it could not possibly lead to a better solution.\n",
    "\n",
    "<pre>\n",
    "import itertools\n",
    "\n",
    "def ScanAndScoreMotif(DNA, motif):\n",
    "    totalDist = 0\n",
    "    bestAlignment = []\n",
    "    k = len(motif)\n",
    "    for seq in DNA:\n",
    "        minHammingDist = k+1\n",
    "        for s in xrange(len(seq)-k+1):\n",
    "            HammingDist = sum([1 for i in xrange(k) if motif[i] != seq[s+i]])\n",
    "            if (HammingDist < minHammingDist):\n",
    "                bestS = s\n",
    "                minHammingDist = HammingDist\n",
    "        bestAlignment.append(bestS)\n",
    "        totalDist += minHammingDist\n",
    "    return bestAlignment, totalDist\n",
    "\n",
    "def MedianStringMotifSearch(DNA,k):\n",
    "    \"\"\" Consider all possible 4**k motifs\"\"\"\n",
    "    bestAlignment = []\n",
    "    minHammingDist = k*len(DNA)\n",
    "    kmer = ''\n",
    "    for pattern in itertools.product('acgt', repeat=k):\n",
    "        motif = ''.join(pattern)\n",
    "        align, dist = ScanAndScoreMotif(DNA, motif)\n",
    "        if (dist < minHammingDist):\n",
    "            bestAlignment = [s for s in align]\n",
    "            minHammingDist = dist\n",
    "            kmer = motif\n",
    "    return bestAlignment, minHammingDist, kmer\n",
    "</pre>\n",
    "\n",
    "Apply your algoritm to the set of sequences used in lecture:\n",
    "\n",
    "<pre>\n",
    "seqApprox = [\n",
    "    'tagtggtcttttgagtgtagatctgaagggaaagtatttccaccagttcggggtcacccagcagggcagggtgacttaat',\n",
    "    'cgcgactcggcgctcacagttatcgcacgtttagaccaaaacggagttggatccgaaactggagtttaatcggagtcctt',\n",
    "    'gttacttgtgagcctggttagacccgaaatataattgttggctgcatagcggagctgacatacgagtaggggaaatgcgt',\n",
    "    'aacatcaggctttgattaaacaatttaagcacgtaaatccgaattgacctgatgacaatacggaacatgccggctccggg',\n",
    "    'accaccggataggctgcttattaggtccaaaaggtagtatcgtaataatggctcagccatgtcaatgtgcggcattccac',\n",
    "    'tagattcgaatcgatcgtgtttctccctctgtgggttaacgaggggtccgaccttgctcgcatgtgccgaacttgtaccc',\n",
    "    'gaaatggttcggtgcgatatcaggccgttctcttaacttggcggtgcagatccgaacgtctctggaggggtcgtgcgcta',\n",
    "    'atgtatactagacattctaacgctcgcttattggcggagaccatttgctccactacaagaggctactgtgtagatccgta',\n",
    "    'ttcttacacccttctttagatccaaacctgttggcgccatcttcttttcgagtccttgtacctccatttgctctgatgac',\n",
    "    'ctacctatgtaaaacaacatctactaacgtagtccggtctttcctgatctgccctaacctacaggtcgatccgaaattcg']\n",
    "</pre>\n",
    "\n",
    "Use the %time *magic* function to compare the performance of your method to the one given."
   ]
  },
  {
   "cell_type": "code",
   "execution_count": 2,
   "metadata": {
    "collapsed": false,
    "number": 5,
    "section": "answer"
   },
   "outputs": [],
   "source": [
    "import itertools\n",
    "global cDNA, kmerList, bestScoreAll, bestScore, bestAlignmentAll\n",
    "    \n",
    "def ScanAndScoreMotif(DNA, motif):\n",
    "    totalDist = 0\n",
    "    bestAlignment = []\n",
    "    k = len(motif)\n",
    "    for seq in DNA:\n",
    "        minHammingDist = k+1\n",
    "        for s in xrange(len(seq)-k+1):\n",
    "            HammingDist = sum([1 for i in xrange(k) if motif[i] != seq[s+i]])\n",
    "            if (HammingDist < minHammingDist):\n",
    "                bestS = s\n",
    "                minHammingDist = HammingDist\n",
    "        bestAlignment.append(bestS)\n",
    "        totalDist += minHammingDist\n",
    "    return bestAlignment, totalDist\n",
    "\n",
    "def generateKmers(k, prefix=''):\n",
    "    global kmerList, bestScore, bestScoreAll, bestAlignmentAll\n",
    "    if (prefix == ''):\n",
    "        kmerList = []\n",
    "    if (len(prefix) == k):\n",
    "        currentAli, currentScore = ScanAndScoreMotif(cDNA, prefix)\n",
    "        if (currentScore <= bestScoreAll):\n",
    "            bestScoreAll = currentScore\n",
    "            bestAlignmentAll = currentAli\n",
    "            kmerList.append(prefix)\n",
    "        bestScore = k*len(cDNA)\n",
    "    else:\n",
    "        currentAli, currentScore = ScanAndScoreMotif(cDNA, prefix)\n",
    "        currentScore += (k-len(prefix))*len(cDNA)\n",
    "        if (currentScore <= bestScore):\n",
    "            bestScore = currentScore\n",
    "            for base in \"acgt\":\n",
    "                generateKmers(k, prefix+base)\n",
    "                \n",
    "def BranchAndBoundMedianStringMotifSearch(DNA,k):\n",
    "    global cDNA, bestScore, bestScoreAll, kmerList\n",
    "    cDNA = DNA\n",
    "    bestScore = k*len(cDNA)\n",
    "    bestScoreAll = k*len(cDNA)\n",
    "    generateKmers(k)\n",
    "    minHammingDist = bestScoreAll\n",
    "    for pattern in kmerList:\n",
    "        motif = ''.join(pattern)\n",
    "        align, dist = ScanAndScoreMotif(DNA, motif)\n",
    "        \n",
    "        if (dist == minHammingDist):\n",
    "            bestAlignment = [s for s in align]\n",
    "            minHammingDist = dist\n",
    "            bestKmer = motif\n",
    "    return bestAlignmentAll, bestScoreAll, bestKmer\n",
    "\n",
    "%time BranchAndBoundMedianStringMotifSearch(seqApprox,10)"
   ]
  },
  {
   "cell_type": "markdown",
   "metadata": {
    "section": "submit"
   },
   "source": [
    "Click [here to submit](http://csbio.unc.edu/mcmillan/index.py?run=PS.upload) your completed problem set"
   ]
  }
 ],
 "metadata": {
  "anaconda-cloud": {},
  "kernelspec": {
   "display_name": "Python [default]",
   "language": "python",
   "name": "python2"
  },
  "language_info": {
   "codemirror_mode": {
    "name": "ipython",
    "version": 2
   },
   "file_extension": ".py",
   "mimetype": "text/x-python",
   "name": "python",
   "nbconvert_exporter": "python",
   "pygments_lexer": "ipython2",
   "version": "2.7.12"
  }
 },
 "nbformat": 4,
 "nbformat_minor": 0
}
