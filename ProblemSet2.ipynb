{
 "cells": [
  {
   "cell_type": "markdown",
   "metadata": {
    "section": "header"
   },
   "source": [
    "<div style=\"text-align: center;\">\n",
    "<h1>The University of North Carolina at Chapel Hill</h1>\n",
    "<h1>Comp 555 BioAlgorithms - Spring 2017</h1>\n",
    "<h1 style=\"font-size: 250%;\">Problem Set #2 </h1>\n",
    "<h2>Version 2</h2>\n",
    "<h1>Issued Monday, 2/20/2017; Due Monday, 3/6/2017</h1>\n",
    "</div>\n",
    "\n",
    "**Homework Information:** Some of the problems are probably too long to complete the night before the due date, so plan accordingly. Late problem sets will be penalized by a factor of\t70.71% for each class meeting after the due date. Feel free to get help from others, but the work you submit in should be your own."
   ]
  },
  {
   "cell_type": "code",
   "execution_count": 1,
   "metadata": {
    "collapsed": false,
    "section": "signature"
   },
   "outputs": [],
   "source": [
    "# Replace the following string values with the requested information\n",
    "class Student:\n",
    "    first = \"Zhilan\"\n",
    "    last = \"Zhou\"\n",
    "    onyen = \"zzl\"\n",
    "    pid = \"720432337\""
   ]
  },
  {
   "cell_type": "markdown",
   "metadata": {
    "number": 1,
    "section": "problem"
   },
   "source": [
    "---\n",
    "**Problem #1:** Consider the table of integer molecular weights for amino acid residues that we have used in class and is repeated below.\n",
    "\n",
    "        Daltons = { \n",
    "            'A':  71, 'C': 103, 'D': 115, 'E': 129,\n",
    "            'F': 147, 'G':  57, 'H': 137, 'I': 113,\n",
    "            'K': 128, 'L': 113, 'M': 131, 'N': 114,\n",
    "            'P':  97, 'Q': 128, 'R': 156, 'S':  87,\n",
    "            'T': 101, 'V':  99, 'W': 186, 'Y': 163 \n",
    "        }\n",
    "\n",
    "Which peptide *combinations* have a total molecular weight of 555 daltons? A *combination* means that the order of the peptides is unimportant (i.e. \"AKS\" is the same combination as any of \"ASK\", \"KAS\", \"KSA\", \"SAK\", and \"SKA\"). When reporting your answer you should lexigraphically sort the resides within each combination (\"AKS\" is the sorted version of the previous example). Furthermore, the list of combinations should also be lexigraphically sorted (The python sorted() method will do this for you)."
   ]
  },
  {
   "cell_type": "raw",
   "metadata": {
    "number": 1,
    "section": "answer"
   },
   "source": [
    "['AAAAAAE', 'AAAAACP', 'AAAAAIS', 'AAAAALS', 'AAAAATV', 'AAAADGV', 'AAAADR', 'AAAAGIT', 'AAAAGLT', 'AAAAPSS', 'AAADGGI', 'AAADGGL', 'AAADIN', 'AAADKV', 'AAADLN', 'AAADQV', 'AAAEGGV', 'AAAEGR', 'AAAENV', 'AAAGGGGGG', 'AAAGGGGN', 'AAAGGMP', 'AAAGGNN', 'AAAGPST', 'AAAGSVV', 'AAAGVW', 'AAAIKT', 'AAAIQT', 'AAAKLT', 'AAALQT', 'AAAMNP', 'AAANNN', 'AAARSV', 'AAARW', 'AACFY', 'AACGGPV', 'AACGPR', 'AACNPV', 'AADGGPS', 'AADGIK', 'AADGIQ', 'AADGKL', 'AADGLQ', 'AADNPS', 'AAEFH', 'AAEGGGI', 'AAEGGGL', 'AAEGIN', 'AAEGKV', 'AAEGLN', 'AAEGQV', 'AAEKR', 'AAEQR', 'AAGGGGGK', 'AAGGGGGQ', 'AAGGGKN', 'AAGGGNQ', 'AAGGISV', 'AAGGIW', 'AAGGLSV', 'AAGGLW', 'AAGGPTT', 'AAGGTVV', 'AAGIRS', 'AAGKMP', 'AAGKNN', 'AAGLRS', 'AAGMPQ', 'AAGNNQ', 'AAGRTV', 'AAHIY', 'AAHLY', 'AAINSV', 'AAINW', 'AAKPST', 'AAKSVV', 'AAKVW', 'AALNSV', 'AALNW', 'AANPTT', 'AANTVV', 'AAPQST', 'AAQSVV', 'AAQVW', 'AARRT', 'AASYY', 'ACCDY', 'ACCFM', 'ACDEH', 'ACFFS', 'ACFHP', 'ACGGGIP', 'ACGGGLP', 'ACGINP', 'ACGKPV', 'ACGLNP', 'ACGPQV', 'ACHIM', 'ACHLM', 'ACKPR', 'ACMSY', 'ACPQR', 'ADGGGPT', 'ADGGGVV', 'ADGGRV', 'ADGKPS', 'ADGNPT', 'ADGNVV', 'ADGPQS', 'ADGRR', 'ADHMT', 'ADIKK', 'ADIKQ', 'ADIQQ', 'ADKKL', 'ADKLQ', 'ADLQQ', 'ADNRV', 'AEEEP', 'AEEII', 'AEEIL', 'AEELL', 'AEGGGPS', 'AEGGIK', 'AEGGIQ', 'AEGGKL', 'AEGGLQ', 'AEGNPS', 'AEHMS', 'AEIKN', 'AEINQ', 'AEKKV', 'AEKLN', 'AEKQV', 'AELNQ', 'AEQQV', 'AFHIS', 'AFHLS', 'AFHTV', 'AFSSY', 'AGGGGKK', 'AGGGGKQ', 'AGGGGQQ', 'AGGGIIS', 'AGGGILS', 'AGGGITV', 'AGGGLLS', 'AGGGLTV', 'AGGIRT', 'AGGKKN', 'AGGKNQ', 'AGGLRT', 'AGGNQQ', 'AGGPSSV', 'AGGPSW', 'AGIINS', 'AGIKSV', 'AGIKW', 'AGILNS', 'AGINTV', 'AGIQSV', 'AGIQW', 'AGKLSV', 'AGKLW', 'AGKPTT', 'AGKTVV', 'AGLLNS', 'AGLNTV', 'AGLQSV', 'AGLQW', 'AGPQTT', 'AGPRSS', 'AGQTVV', 'AGTYY', 'AHHIP', 'AHHLP', 'AHPSY', 'AIKRS', 'AINRT', 'AIQRS', 'AKKMP', 'AKKNN', 'AKLRS', 'AKMPQ', 'AKNNQ', 'AKRTV', 'ALNRT', 'ALQRS', 'AMPQQ', 'ANNQQ', 'ANPSSV', 'ANPSW', 'AQRTV', 'CCCDM', 'CCCFV', 'CCDFS', 'CCDHP', 'CCEGY', 'CCFTT', 'CCHIV', 'CCHLV', 'CCMMS', 'CCSVY', 'CCWY', 'CDHIS', 'CDHLS', 'CDHTV', 'CDSSY', 'CEEGH', 'CEEPP', 'CEHSV', 'CEHW', 'CEIIP', 'CEILP', 'CELLP', 'CFFGT', 'CFMSS', 'CGGGGHS', 'CGGGPPS', 'CGGHNS', 'CGGIKP', 'CGGIPQ', 'CGGKLP', 'CGGLPQ', 'CGMTY', 'CGNPPS', 'CHITT', 'CHLTT', 'CHMPS', 'CHNNS', 'CIIII', 'CIIIL', 'CIILL', 'CIKNP', 'CILLL', 'CINPQ', 'CKKPV', 'CKLNP', 'CKPQV', 'CLLLL', 'CLNPQ', 'CPQQV', 'CSTTY', 'DDDIP', 'DDDLP', 'DDEPV', 'DDGGGGP', 'DDGGNP', 'DDGHM', 'DDHST', 'DDIIV', 'DDILV', 'DDLLV', 'DDMPP', 'DDNNP', 'DEHSS', 'DEIPT', 'DEIVV', 'DELPT', 'DELVV', 'DFGHV', 'DFHR', 'DFPPV', 'DGGGGIV', 'DGGGGLV', 'DGGGIR', 'DGGGLR', 'DGGINV', 'DGGKPT', 'DGGKVV', 'DGGLNV', 'DGGPQT', 'DGGQVV', 'DGGYY', 'DGINR', 'DGKRV', 'DGLNR', 'DGQRV', 'DHTTT', 'DIIIT', 'DIILT', 'DILLT', 'DIMPV', 'DINNV', 'DKKPS', 'DKNPT', 'DKNVV', 'DKPQS', 'DKRR', 'DLLLT', 'DLMPV', 'DLNNV', 'DNPQT', 'DNQVV', 'DNYY', 'DPQQS', 'DQRR', 'EEIPS', 'EELPS', 'EEPTV', 'EEVVV', 'EGGGGPT', 'EGGGGVV', 'EGGGRV', 'EGGKPS', 'EGGNPT', 'EGGNVV', 'EGGPQS', 'EGGRR', 'EGHMT', 'EGIKK', 'EGIKQ', 'EGIQQ', 'EGKKL', 'EGKLQ', 'EGLQQ', 'EGNRV', 'EHSTT', 'EIIIS', 'EIILS', 'EIITV', 'EILLS', 'EILTV', 'EKNPS', 'ELLLS', 'ELLTV', 'EMPPT', 'EMPVV', 'ENNPT', 'ENNVV', 'ENPQS', 'ENRR', 'FFFGG', 'FFFN', 'FFSSS', 'FGGMY', 'FGHIT', 'FGHLT', 'FGSTY', 'FHPSS', 'FIPPT', 'FIPVV', 'FLPPT', 'FLPVV', 'FMNY', 'GGGGGGGGV', 'GGGGGGGR', 'GGGGGGNV', 'GGGGGNR', 'GGGGIIT', 'GGGGILT', 'GGGGLLT', 'GGGGMPV', 'GGGGNNV', 'GGGIPSS', 'GGGKKK', 'GGGKKQ', 'GGGKQQ', 'GGGLPSS', 'GGGMPR', 'GGGNNR', 'GGGPSTV', 'GGGPTW', 'GGGQQQ', 'GGGSVVV', 'GGGVVW', 'GGIIKS', 'GGIINT', 'GGIIQS', 'GGIKLS', 'GGIKTV', 'GGILNT', 'GGILQS', 'GGIQTV', 'GGKLLS', 'GGKLTV', 'GGLLNT', 'GGLLQS', 'GGLQTV', 'GGMNPV', 'GGNNNV', 'GGPRST', 'GGRSVV', 'GGRVW', 'GHHHS', 'GHMMV', 'GHPTY', 'GHVVY', 'GIKRT', 'GINPSS', 'GIQRT', 'GKKKN', 'GKKNQ', 'GKLRT', 'GKNQQ', 'GKPSSV', 'GKPSW', 'GLNPSS', 'GLQRT', 'GMNPR', 'GNNNR', 'GNPSTV', 'GNPTW', 'GNQQQ', 'GNSVVV', 'GNVVW', 'GPQSSV', 'GPQSW', 'GRRSV', 'GRRW', 'HHPPS', 'HIMSS', 'HLMSS', 'HMMR', 'HMSTV', 'HMTW', 'HRVY', 'IIKNS', 'IIMPT', 'IIMVV', 'IINNT', 'IINQS', 'IKKSV', 'IKKW', 'IKLNS', 'IKNTV', 'IKQSV', 'IKQW', 'ILMPT', 'ILMVV', 'ILNNT', 'ILNQS', 'INQTV', 'IQQSV', 'IQQW', 'KKLSV', 'KKLW', 'KKPTT', 'KKTVV', 'KLLNS', 'KLNTV', 'KLQSV', 'KLQW', 'KPQTT', 'KPRSS', 'KQTVV', 'KTYY', 'LLMPT', 'LLMVV', 'LLNNT', 'LLNQS', 'LNQTV', 'LQQSV', 'LQQW', 'MMPPV', 'MNNPV', 'MSSSY', 'NNNNV', 'NPRST', 'NRSVV', 'NRVW', 'PPPTY', 'PPVVY', 'PQQTT', 'PQRSS', 'QQTVV', 'QTYY', 'RRRS']"
   ]
  },
  {
   "cell_type": "markdown",
   "metadata": {
    "number": 2,
    "section": "problem"
   },
   "source": [
    "---\n",
    "**Problem #2:** The protein for initiating chromosome replication, *DnaA*, which we discussed in class, appears in the genome of [*Brevibacillus brevis*](http://csbio.unc.edu/mcmillan/Comp555S17/data/BacillusBrevis.fa). Its peptide sequence is: \n",
    "\n",
    "         DnaA = \"MDAAISELWRKVLAKIEKSLSKPSFDTWLKATKATTLEEDALIVVAPNDFARDWLETRYA\" +\\\n",
    "                \"QLITDTLYEVTGINMKVKFVALQNPDAAFADEQPVPRVKMSEPPTVADDQPPSILNPKYT\" +\\\n",
    "                \"FDTFVIGSGNRFAHAASLAVAEAPAKAYNPLFIYGGVGLGKTHLMHAIGHYVIQHNPSAK\" +\\\n",
    "                \"VVYLSSEKFTNEFINSIRDNKAVEFRNKYRSVDVLLIDDIQFLAGKESTQEEFFHTFNAL\" +\\\n",
    "                \"HEESKQIIISSDRPPKEIPTLEDRLRSRFEWGLITDIQPPDLETRIAILRKKAKAENLDI\" +\\\n",
    "                \"PNEVMAYIANQIDSNIRELEGALIRVVAYSSLINRDIDTQLAAEALKDIIPSSRPRVITI\" +\\\n",
    "                \"IDIQRTVGEAFSLKLEDFKAKKRTKTVAFPRQIAMYLSRELTDASLPKIGDEFGGRDHTT\" +\\\n",
    "                \"VIHAHEKISRALANDPHMQTTIQSLIEKLKANH\"\n",
    "       \n",
    "How many possible DNA-sequence encodings are possible for this protein? (**Note:** you should consider all possible STOP codons in your calculations)"
   ]
  },
  {
   "cell_type": "raw",
   "metadata": {
    "number": 2,
    "section": "answer"
   },
   "source": [
    "15467345809188780904218306454693351836103477962558668786395768989831802657542134210796837956747286040486517283914725393459238318725032125665146037387188795090997796364072402844155455228493786126052572265133452355769856816054272"
   ]
  },
  {
   "cell_type": "markdown",
   "metadata": {
    "number": 3,
    "section": "problem"
   },
   "source": [
    "---\n",
    "**Problem #3:** Find the coding sequence for the *DnaA* gene in [*Brevibacillus brevis*](http://csbio.unc.edu/mcmillan/Comp555S17/data/BacillusBrevis.fa). Your answer should give the sequence's slice interval in the genome (i.e. seq[start:end], where end=start+3&times;454 <strike>28</strike>). Note the the gene sequence might appear either on the primary sequence or its reverse complement. ***Hint:*** Many procaryotic proteins make use of alternate start codons instead of the usual \"AUG\" (Methionine) sequence. These alternate start codes are still translated to Methionine, but they do not appear as the expected codon in the DNA sequence. *DnaA* is such a protein, thus you will not find it if you expect it to start with \"ATG\"."
   ]
  },
  {
   "cell_type": "raw",
   "metadata": {
    "number": 3,
    "section": "answer"
   },
   "source": [
    "[465:1827]"
   ]
  },
  {
   "cell_type": "markdown",
   "metadata": {
    "number": 4,
    "section": "problem"
   },
   "source": [
    "**Problem #4:** How many *distinct* subpeptides can the *DnaA* protein be broken into? How many *distinct* molecular weights appear in its Theoretical Spectrum?"
   ]
  },
  {
   "cell_type": "raw",
   "metadata": {
    "number": 4,
    "section": "answer"
   },
   "source": [
    "102153\n",
    "37488"
   ]
  },
  {
   "cell_type": "markdown",
   "metadata": {
    "number": 5,
    "section": "problem"
   },
   "source": [
    "**Problem #5: Programming Problem**\n",
    "\n",
    "Given a collection of strings, a larger string containing every one of the smaller strings as a substring is called a superstring. Assuming parsimony, the shortest possible superstring over a collection of reads serves as a candidate chromosome.\n",
    "\n",
    "Write a program that inputs at most 50 DNA strings <strike>whose lengths do not exceed 100 bp</strike> in FASTA format (which represent reads deriving from sequencing) and outputs a shortest superstring containing all the given strings. The dataset is guaranteed to satisfy the following condition: there exists a unique way to reconstruct the entire chromosome from these reads by gluing together pairs of reads that overlap by at least 9 basepairs <strike>half their length</strike>. You can assume that all strings are properly *stranded*, meaning that there is no need to consider reverse complements when assembling your path.\n",
    "\n",
    "Sample Dataset:\n",
    "\n",
    "        >Rosalind_56\n",
    "        ATTAGACCTG\n",
    "        >Rosalind_57\n",
    "        CCTGCCGGAA\n",
    "        >Rosalind_58\n",
    "        AGACCTGCCG\n",
    "        >Rosalind_59\n",
    "        GCCGGAATAC\n",
    "       \n",
    "       \n",
    "Sample Output (first line only, the following four lines are for illustration purposes):\n",
    "\n",
    "      \n",
    "                     ATTAGACCTGCCGGAATAC\n",
    "        Rosalind_56  ----------\n",
    "        Rosalind_57        ----------\n",
    "        Rosalind_58     ----------\n",
    "        Rosalind_59           ----------\n",
    "\n",
    "Another sample dataset can be downloaded [*here*](http://csbio.unc.edu/mcmillan/Comp555S17/data/PS2contigs.fa)."
   ]
  },
  {
   "cell_type": "code",
   "execution_count": 2,
   "metadata": {
    "collapsed": false,
    "number": 5,
    "section": "answer"
   },
   "outputs": [
    {
     "name": "stdout",
     "output_type": "stream",
     "text": [
      "CATGATCATCATCATCATCATCATCATCAGCATCGTCATCATCATCATCATCATCATGATCATCATCATCAGCATCATCATCATCATCATCATCATCATCATCATCATCATCATCATCATCATCATCATCATCATCATCATCATCATCATCATCGTCATCAGCATCATCATCATCGTCGGCATGAGCATCATCATCGTCATGATCATCATCATCATCATCATCATCATCATCATCATCATCATCATCATCATCGTCATCGTCATGGTCATCATCATCATCATCATCATCATCATCATCATCATCATCATCATCATCATCGTCATCGGCATCATCATCATCATCATCATCATCGTCATCATCATCATCATCATCATCATCATCATGATCATCATCATGATCAGCGTCATCATCATCATCATCATCATCAGCATCATCATCATCGTCATCATGATCATCATCATCATCATCATGAGCATCATCATCAGCATCATCATCATCATCATCATCATCATCATCATCATCATCATCATCATCATCATCATGATCATCATCATCATCATCATGATCATCATCATCGTCAGCATCATCATCATCATCATCATCATCATCATGATCATCGTCATCATCATCATCATCATCATCATCATCATCATCATGATCATGATCATGGTCATCATGATCATCATCATCATCATCATCATCATCATCATCATGATCATCATCATCATCATCATCAGCATCGGCATCATCATCATCATCATGGTCATCATCATCATCATCGTCATGATCATCATCATCATCATCATCAGCATCATCATCATCAGCAGCATCATCATCATCGTGATCATCATCGTCATCATCATCATCATCATCATCATCATCATCAGGATCATCATCATCATCATCATCGTCATGATCATCATCATCATCATCGTCATCATCATCATCAGCATCATCATCAGCATCATCATCATCATCATCAGCATCATCATCATCAGGATGATCGTCGTGAGCATCATCATCATCATCATCATCATCATCATCATCATCATCGTCATGATCATGATCATCATGAGCATCATCATCATCATCATCATCATCATCATCATCATGATGATGATCATCATCAGCATCATCATCATCATCATCATCATCATCATCATCAGCATCATCAGCATCATCATCATCATCATCATCATCATCAGCATCATCATCAGCATCATCATCGTCATCATCATCATCATCATCATCATCATCATCATCATCATCATCATCATCATCATCATCATCATCATCATCATCATCATCATCATCATGATCATCATCATCATCATCATCATCATCATCATCATCATCATCATCATCATCATCATCATCATCATCATCATCATCGTCATCATCATGATCATCATCAGGATCATCATCATCATGATGATCATCATCATCATCATCATCATCATCATCATCATCGTCATCATGATCATCATCATCGTCATCATCATCGTCAGCATCAGCATCATCATCATCATCATCATCATCATCATCATCATGATCAGCATCATCATCATCATCATCATCAGGATCATCATCATCATCATCATCATCATCATCATCATCATCATCATCGTCATCATCATCATCATCATCATCATCATCATCAGCGTCATGATCATCATCATCATCATCATCATCAGCATGATCATCATCATCATCATCATCATCATCATGATCATCATCATCAGCATCATCAGCATCATCATCATCATCATCATGATCATCATCATCATCATCATCATCATCATCATCATCATGATCATCATCATCATCATCATCATCATCATCAGGATCATCATCATCATCATCATCATCATCATCATCATCATGATCATCATCATCATCATCATGATCGTCATCATCATCAGCATCATCATCATCATCGTCATCATCAGGATCATCAGCATCATCATCATCATCATCATCATCATCATCAGCATCATCAGCATCATCATCATCATCATCATCATCATCAGCATCATCATCAGCATCATCATCGTCATCATCATCATCATCATCATCATCATCATCATCATCATCATCATCATCATCATCATCATCATCATCATCATCATCATGATGATCATCATCATCATCATCGTCATGGTGATCATCATCATCATGATCATCAGCAGCATCATCATCGTCATCATCATCATGATCAGCATCATCATCATCATCATCATCATCATCATCATCATCATCAGCGTCATGATCATCATCATCATCATCATCATCAGCATGATCATCATCATCATCATCATCATCATCATGATCATCATCATCATCGTCATCGTCATGGTCATCATCATCATCATCATCATCATCATCATCATCATCATCATCATCATCATCGTCATCGGCATCATCATCATCATCGTCATCATCATCATCATCATCATCATCATCATCATCATCATCATCATCATCATCATCGTCATGATCATCATCATCGTCATCATCATGGTCATCATCATCATCGTCATCATCGTCATCATCATCATGATCATCAGGGTCATCATCATCATCATCATCATCATCATCATCATCATCATCATCATCATCATCATCATCATCATCATCATCAGCATCATCATCATGATCAGCATCATCGTCATCATCATCATCATCATCAGCATCATCATCGTCATCATCATCATCAGCATCATCATCATCATCAGCATCATCATCATCAGCATCATCATCATCATCATCATCATCATCATGAGCATCATCATCATCATCATCATCATCATCATCATCATGATCATCAGCATCATCATCATCATGATCATCATCAGCATCGTCATCATCATCATCATCATCATCATCATCATCATCATCATCATGATCATCATCATCATCATCATGATCGTCATCATCATCAGCATCATCATCATCATCGTCATCATCAGGATCATCAGCATCATCATCATCATCATCATCATCATCATCAGCGTCATCATGATCAGCATCATCATCATCATCATCATCATCATCATGAGCATCATCATCAGCATCATCATCATCATGATCATCATCATCATCATCGTCATCATCATCATCATGATCATCATCATCATCATCATCATCATCATCAGCATCGTCATCATCATCATCATCATCATCATCATCATCAGGATCATCATCGTCATCGTCATCATCATCATCATCATCATCATCATCATCATCATCATCATCATCAGCATCATCAGCATCATCATCATCATCATCATCATCATCATCATCATCATCATCATCATCATCATCATGATGATCATGAGCATCGTCAGCAGCATCATCATCATCGTCATCATCATCATCATCATCATCATCGTCATCATCGTCATCATCATCATCATCAGCATCAG\n"
     ]
    }
   ],
   "source": [
    "import itertools\n",
    "\n",
    "def loadFasta(filename):\n",
    "    \"\"\" Parses a classically formatted and possibly \n",
    "        compressed FASTA file into a list of headers \n",
    "        and fragment sequences for each sequence contained\"\"\"\n",
    "    if (filename.endswith(\".gz\")):\n",
    "        fp = gzip.open(filename, 'rb')\n",
    "    else:\n",
    "        fp = open(filename, 'rb')\n",
    "    # split at headers\n",
    "    data = fp.read().split('>')\n",
    "    fp.close()\n",
    "    # ignore whatever appears before the 1st header\n",
    "    data.pop(0)     \n",
    "    headers = []\n",
    "    sequences = []\n",
    "    for sequence in data:\n",
    "        lines = sequence.split('\\n')\n",
    "        headers.append(lines.pop(0))\n",
    "        # add an extra \"+\" to make string \"1-referenced\"\n",
    "        sequences.append('+'+''.join(lines))\n",
    "    return (headers, sequences)\n",
    "\n",
    "hdr, seq = loadFasta(\"PS2contigs.fa\")\n",
    "\n",
    "class BasicGraph:\n",
    "    def __init__(self, vlist=[]):\n",
    "        \"\"\" Initialize a Graph with an optional vertex list \"\"\"\n",
    "        self.index = {v:i for i,v in enumerate(vlist)}    # looks up index given name\n",
    "        self.vertex = {i:v for i,v in enumerate(vlist)}   # looks up name given index\n",
    "        self.edge = []\n",
    "        self.edgelabel = []\n",
    "    def addVertex(self, label):\n",
    "        \"\"\" Add a labeled vertex to the graph \"\"\"\n",
    "        index = len(self.index)\n",
    "        self.index[label] = index\n",
    "        self.vertex[index] = label\n",
    "    def addEdge(self, vsrc, vdst, label='', repeats=True):\n",
    "        \"\"\" Add a directed edge to the graph, with an optional label. \n",
    "        Repeated edges are distinct, unless repeats is set to False. \"\"\"\n",
    "        e = (self.index[vsrc], self.index[vdst])\n",
    "        if (repeats) or (e not in self.edge):\n",
    "            self.edge.append(e)\n",
    "            self.edgelabel.append(label)\n",
    "            \n",
    "class ImprovedGraph(BasicGraph):\n",
    "    def SearchTree(self, path, verticesLeft):\n",
    "        \"\"\" A recursive Branch-and-Bound Hamiltonian Path search. \n",
    "        Paths are extended one node at a time using only available\n",
    "        edges from the graph. \"\"\"\n",
    "        if (len(verticesLeft) == 0):\n",
    "            self.PathV2result = [self.vertex[i] for i in path]\n",
    "            return True\n",
    "        for v in verticesLeft:\n",
    "            if (len(path) == 0) or ((path[-1],v) in self.edge):\n",
    "                if self.SearchTree(path+[v], [r for r in verticesLeft if r != v]):\n",
    "                    return True\n",
    "        return False\n",
    "    def hamiltonianPath(self):\n",
    "        \"\"\" A wrapper function for invoking the Branch-and-Bound \n",
    "        Hamiltonian Path search. \"\"\"\n",
    "        self.PathV2result = []\n",
    "        self.SearchTree([],sorted(self.index.values()))                \n",
    "        return self.PathV2result\n",
    "\n",
    "def overlap(suffix, prefix):\n",
    "    N = 0\n",
    "    for i in xrange(min(len(suffix)-1, len(prefix)-1),8,-1):\n",
    "        if suffix[-i:] == prefix[1:i+1]:\n",
    "            N = i\n",
    "            break\n",
    "    return N\n",
    "\n",
    "binary = [base for base in xrange(len(hdr))]\n",
    "\n",
    "G1 = ImprovedGraph(binary)\n",
    "for i in xrange(len(hdr)):\n",
    "    for j in xrange(len(hdr)):\n",
    "        if (i == j):\n",
    "            continue\n",
    "        edge = overlap(seq[i], seq[j])\n",
    "        if (edge > 0):\n",
    "            G1.addEdge(i,j)\n",
    "            \n",
    "path = G1.hamiltonianPath()\n",
    "\n",
    "superstring = seq[path[0]][1:]\n",
    "\n",
    "for i in xrange(1, len(hdr)):\n",
    "    superstring += seq[path[i]][1+(overlap(seq[path[i-1]], seq[path[i]])):]\n",
    "\n",
    "print superstring"
   ]
  },
  {
   "cell_type": "markdown",
   "metadata": {
    "section": "submit"
   },
   "source": [
    "Click [here to submit](http://csbio.unc.edu/mcmillan/index.py?run=PS.upload) your completed problem set. **Make sure that you do not overwrite a previous problem set!**"
   ]
  }
 ],
 "metadata": {
  "anaconda-cloud": {},
  "kernelspec": {
   "display_name": "Python [default]",
   "language": "python",
   "name": "python2"
  },
  "language_info": {
   "codemirror_mode": {
    "name": "ipython",
    "version": 2
   },
   "file_extension": ".py",
   "mimetype": "text/x-python",
   "name": "python",
   "nbconvert_exporter": "python",
   "pygments_lexer": "ipython2",
   "version": "2.7.12"
  }
 },
 "nbformat": 4,
 "nbformat_minor": 0
}
