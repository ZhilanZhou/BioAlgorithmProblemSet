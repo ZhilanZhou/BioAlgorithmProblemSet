{
 "cells": [
  {
   "cell_type": "markdown",
   "metadata": {
    "section": "header"
   },
   "source": [
    "---\n",
    "<div style=\"text-align: center;\">\n",
    "<h1>The University of North Carolina at Chapel Hill</h1>\n",
    "<h1>Comp 555 BioAlgorithms - Spring 2017</h1>\n",
    "<h1 style=\"font-size: 250%;\">Problem Set #3 </h1>\n",
    "<h1>Issued Wednesday, 3/22/2017; Due Monday, 4/3/2017</h1>\n",
    "</div>\n",
    "\n",
    "**Homework Information:** Some of the problems are probably too long to be done the night before the due date, so plan accordingly. Late problem sets will be penalized by a factor of\t70.71% for each class meeting after the due date. Feel free to get help from others, but the work you submit in should be your own."
   ]
  },
  {
   "cell_type": "code",
   "execution_count": null,
   "metadata": {
    "collapsed": false,
    "section": "signature"
   },
   "outputs": [],
   "source": [
    "# Replace the following string values with the requested information\n",
    "class Student:\n",
    "    first = \"Zhilan\"\n",
    "    last = \"Zhou\"\n",
    "    onyen = \"zzl\"\n",
    "    pid = \"720432337\""
   ]
  },
  {
   "cell_type": "markdown",
   "metadata": {
    "number": 1,
    "section": "problem"
   },
   "source": [
    "---\n",
    "**Problem #1:** On your midterm you were asked to find all 10-peptide chains whose molecular weight equals a given target (1024) using the following list of residues ordered by their weights. Most of the algorithms proposed were time-consuming with many possible answers.\n",
    "\n",
    "```python\n",
    "Residues = [\n",
    "    (186, 'W'), (163, 'Y'), (156, 'R'), (147, 'F'), (137, 'H'), \n",
    "    (131, 'M'), (129, 'E'), (128, '[K/Q]'), (115, 'D'), (114, 'N'),\n",
    "    (113, '[I/L]'), (103, 'C'), (101, 'T'), (99, 'V'), (97, 'P'), \n",
    "    (87, 'S'), (71, 'A'), (57, 'G')\n",
    "]\n",
    "```\n",
    "\n",
    "Now consider a slightly different problem: find the *length* of the *shortest peptide chain* whose molecular weight matches a target. This problem can be solved effciently using *dynamic programming*. In order to see how, consider an analogy between finding the shortest peptide combination of a given weight, and the problem of making *exact change* from an arbitrary set of coinage. \n",
    "\n",
    "In the space below given a reccurance relation for the dynamic program for finding the shortest combination of peptides, *DPShortestPeptideLength(target, Residues)*."
   ]
  },
  {
   "cell_type": "raw",
   "metadata": {
    "number": 1,
    "section": "answer"
   },
   "source": [
    "d(x) is the number of shortest combination of peptides for the total weight x\n",
    "d(target)=min{d(target-Residues[i])+1}, where the Residues[i] indicates each possible weight in the dictionary"
   ]
  },
  {
   "cell_type": "markdown",
   "metadata": {
    "number": 2,
    "section": "problem"
   },
   "source": [
    "---\n",
    "**Problem #2:** It is inefficient to create and fully populate a table for DPShortestPeptideCombination(target, Residues) where every molecular weight less than your given target, as you would for computing exact change. Suggest a more efficient means for representing and populating the memoization of intermediate results needed for *DPShortestPeptideLength(target, Residues)*."
   ]
  },
  {
   "cell_type": "raw",
   "metadata": {
    "number": 2,
    "section": "answer"
   },
   "source": [
    "Use a dictionary to store the target&solution pair as key&value pair. So for any weight during the process we already have met, store it so we could use it again when we need to get the solution for the same weight in another branch."
   ]
  },
  {
   "cell_type": "markdown",
   "metadata": {
    "number": 3,
    "section": "problem"
   },
   "source": [
    "---\n",
    "**Problem #3: Programming Problem**\n",
    "\n",
    "On the midterm you were asked to provide a strategy for finding the length of the *longest repeated* *k*-mer (i.e. it appears at least twice) in the [Mitochondrial sequence of the house mouse](http://csbio.unc.edu/mcmillan/Comp555S17/data/MusMusculusMT.fa). When discussing the midterm solutions I provided a dynamic programming approach to solve this problem for linear genomes. However, as you may recall, the mouse mitochondria is a circular genome with 16399 bases.\n",
    "\n",
    "Now you are asked to write your own dynamic programming solution that works for a circular genome. Enter your code in the space provided below. It should execute on the given mitochondrial sequence."
   ]
  },
  {
   "cell_type": "code",
   "execution_count": null,
   "metadata": {
    "collapsed": false,
    "number": 3,
    "section": "answer"
   },
   "outputs": [],
   "source": [
    "import numpy \n",
    "\n",
    "def LengthOfLongestRepeatedKmer(seq): \n",
    "    N = len(seq) \n",
    "    currentSeq = seq+seq[:-1]\n",
    "    score = numpy.zeros((2*N+1,2*N+1), dtype=numpy.int) \n",
    "    for i in xrange(0,N-1): \n",
    "        for j in xrange(i+1,N+i-1): \n",
    "            if (currentSeq[i] == currentSeq[j]): \n",
    "                score[i+1,j+1] = score[i,j] + 1 \n",
    "            else: \n",
    "                score[i+1,j+1] = 0 \n",
    "    u,v = numpy.unravel_index(score.argmax(), score.shape) \n",
    "    longest = score[u,v] \n",
    "    return longest\n",
    "\n",
    "%time LengthOfLongestRepeatedKmer(musMito)"
   ]
  },
  {
   "cell_type": "markdown",
   "metadata": {
    "number": 4,
    "section": "problem"
   },
   "source": [
    "**Problem #4:** There may be multiple *longest repeated k*-mers in a given sequence. There can be different substrings of the same length and a given substring might be repeated more than two times. Suppose that rather that returning just the length of the longest repeated *k*-mer, as you were asked in **Problem #3**, you were asked to return a comprehensive list of all distinct *longest repeated k*-mers and how many times it occurs. Explain below how your would modify your solution from **Problem #3** to achieve this objective. "
   ]
  },
  {
   "cell_type": "raw",
   "metadata": {
    "collapsed": true,
    "number": 4,
    "section": "answer"
   },
   "source": [
    "Instead just find the largest number in the matrix, traverse the matrix for all the value which equals to the maximum number. For these corresponding positions, find their actual strings and use a dictionary to count the occuring times. Then it could return this dictionary for all distinct k-mers and occuring times."
   ]
  },
  {
   "cell_type": "markdown",
   "metadata": {
    "number": 5,
    "section": "problem"
   },
   "source": [
    "**Problem #5:** In the space provided below provide an example of a linear sequence where no *5*-mer is repeated and it is as long as possible."
   ]
  },
  {
   "cell_type": "raw",
   "metadata": {
    "collapsed": false,
    "number": 5,
    "section": "answer"
   },
   "source": [
    "AAAAACCCCCGGGGGTTTTTGTTTGGTTGGGTGTTGTGTGGTGGGGCGGGTCGGGCCGGTGCGGTTCGGTCCGGCTCGGCCCGTGGCGTGTCGTGCCGTTGCGTTTCGTTCCGTCTCGTCCCGCGGCGCGTCGCGCCGCTGCGCTTCGCTCCGCCCCTGGGCTGGTCTGGCCTGTGCTGTTCTGTCCTGCCCTTGGCTTGTCTTGCCTTTGCTTTTCTTTCCTTCCCTCGCCTCTGCTCTTCTCTCCTCCCCACCCGACCCTACCCAACCGCACCGGACCGTACCGAACCTCACCTGACCTTACCTAACCAGACCATACCAAACGCCACGCGACGCTACGCAACGGCACGGGACGGTACGGAACGTCACGTGACGTTACGTAACGAGACGATACGAAACTCCACTCGACTCTACTCAACTGCACTGGACTGTACTGAACTTCACTTGACTTTACTTAACTAGACTATACTAAACACCACACGACACTACACAACAGCATAGCACAGGATAGGACAGTATAGTACAGAACATCACATGACATTACATAACAAAAGCCCAGCCGAGCCTAGCCAAGCGCAGCGGAGCGTAGCGAAGCTCAGCTGAGCTTAGCTAAGCAAAGGCCAGGCGAGGCTAGGCAAGGGCAGGGGAGGGTAGGGAAGGTCAGGTGAGGTTAGGTAAGGAAAGTCCAGTCGAGTCTAGTCAAGTGCAGTGGAGTGTAGTGAAGTTCAGTTGAGTTTAGTTAAGTAAAGACAAGAGCAGAGGAGAGTAGAGAAGATCAGATGAGATTAGATAAGAAAATCCCATCCGATCCTATCCAATCGCATCGGATCGTATCGAATCTCATCTGATCTTATCTAATCAAATGCCATGCGATGCTATGCAATGGCATGGGATGGTATGGAATGTCATGTGATGTTATGTAATGAAATTCCATTCGATTCTATTCAATTGCATTGGATTGTATTGAATTTCATTTGATTTTATTTAATTAAATACAATAGAATATCATATGATATTATATAATAAAA"
   ]
  },
  {
   "cell_type": "markdown",
   "metadata": {
    "section": "submit"
   },
   "source": [
    "Click [here to submit](http://csbio.unc.edu/mcmillan/index.py?run=PS.upload) your completed problem set"
   ]
  }
 ],
 "metadata": {
  "anaconda-cloud": {},
  "kernelspec": {
   "display_name": "Python [default]",
   "language": "python",
   "name": "python2"
  },
  "language_info": {
   "codemirror_mode": {
    "name": "ipython",
    "version": 2
   },
   "file_extension": ".py",
   "mimetype": "text/x-python",
   "name": "python",
   "nbconvert_exporter": "python",
   "pygments_lexer": "ipython2",
   "version": "2.7.12"
  }
 },
 "nbformat": 4,
 "nbformat_minor": 0
}
